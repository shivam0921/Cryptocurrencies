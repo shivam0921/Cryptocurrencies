{
 "cells": [
  {
   "cell_type": "code",
   "execution_count": 5,
   "metadata": {},
   "outputs": [],
   "source": [
    "import pandas as pd\n",
    "from sklearn.preprocessing import StandardScaler\n",
    "from sklearn.decomposition import PCA\n",
    "from sklearn.cluster import KMeans\n",
    "import hvplot.pandas"
   ]
  },
  {
   "cell_type": "code",
   "execution_count": 6,
   "metadata": {},
   "outputs": [
    {
     "data": {
      "text/html": [
       "<div>\n",
       "<style scoped>\n",
       "    .dataframe tbody tr th:only-of-type {\n",
       "        vertical-align: middle;\n",
       "    }\n",
       "\n",
       "    .dataframe tbody tr th {\n",
       "        vertical-align: top;\n",
       "    }\n",
       "\n",
       "    .dataframe thead th {\n",
       "        text-align: right;\n",
       "    }\n",
       "</style>\n",
       "<table border=\"1\" class=\"dataframe\">\n",
       "  <thead>\n",
       "    <tr style=\"text-align: right;\">\n",
       "      <th></th>\n",
       "      <th>sepal_length</th>\n",
       "      <th>sepal_width</th>\n",
       "      <th>petal_length</th>\n",
       "      <th>petal_width</th>\n",
       "    </tr>\n",
       "  </thead>\n",
       "  <tbody>\n",
       "    <tr>\n",
       "      <th>0</th>\n",
       "      <td>5.1</td>\n",
       "      <td>3.5</td>\n",
       "      <td>1.4</td>\n",
       "      <td>0.2</td>\n",
       "    </tr>\n",
       "    <tr>\n",
       "      <th>1</th>\n",
       "      <td>4.9</td>\n",
       "      <td>3.0</td>\n",
       "      <td>1.4</td>\n",
       "      <td>0.2</td>\n",
       "    </tr>\n",
       "    <tr>\n",
       "      <th>2</th>\n",
       "      <td>4.7</td>\n",
       "      <td>3.2</td>\n",
       "      <td>1.3</td>\n",
       "      <td>0.2</td>\n",
       "    </tr>\n",
       "    <tr>\n",
       "      <th>3</th>\n",
       "      <td>4.6</td>\n",
       "      <td>3.1</td>\n",
       "      <td>1.5</td>\n",
       "      <td>0.2</td>\n",
       "    </tr>\n",
       "    <tr>\n",
       "      <th>4</th>\n",
       "      <td>5.0</td>\n",
       "      <td>3.6</td>\n",
       "      <td>1.4</td>\n",
       "      <td>0.2</td>\n",
       "    </tr>\n",
       "    <tr>\n",
       "      <th>5</th>\n",
       "      <td>5.4</td>\n",
       "      <td>3.9</td>\n",
       "      <td>1.7</td>\n",
       "      <td>0.4</td>\n",
       "    </tr>\n",
       "    <tr>\n",
       "      <th>6</th>\n",
       "      <td>4.6</td>\n",
       "      <td>3.4</td>\n",
       "      <td>1.4</td>\n",
       "      <td>0.3</td>\n",
       "    </tr>\n",
       "    <tr>\n",
       "      <th>7</th>\n",
       "      <td>5.0</td>\n",
       "      <td>3.4</td>\n",
       "      <td>1.5</td>\n",
       "      <td>0.2</td>\n",
       "    </tr>\n",
       "    <tr>\n",
       "      <th>8</th>\n",
       "      <td>4.4</td>\n",
       "      <td>2.9</td>\n",
       "      <td>1.4</td>\n",
       "      <td>0.2</td>\n",
       "    </tr>\n",
       "    <tr>\n",
       "      <th>9</th>\n",
       "      <td>4.9</td>\n",
       "      <td>3.1</td>\n",
       "      <td>1.5</td>\n",
       "      <td>0.1</td>\n",
       "    </tr>\n",
       "  </tbody>\n",
       "</table>\n",
       "</div>"
      ],
      "text/plain": [
       "   sepal_length  sepal_width  petal_length  petal_width\n",
       "0           5.1          3.5           1.4          0.2\n",
       "1           4.9          3.0           1.4          0.2\n",
       "2           4.7          3.2           1.3          0.2\n",
       "3           4.6          3.1           1.5          0.2\n",
       "4           5.0          3.6           1.4          0.2\n",
       "5           5.4          3.9           1.7          0.4\n",
       "6           4.6          3.4           1.4          0.3\n",
       "7           5.0          3.4           1.5          0.2\n",
       "8           4.4          2.9           1.4          0.2\n",
       "9           4.9          3.1           1.5          0.1"
      ]
     },
     "execution_count": 6,
     "metadata": {},
     "output_type": "execute_result"
    }
   ],
   "source": [
    "# Loading data\n",
    "file_path = \"Resources/new_iris_data.csv\"\n",
    "df_iris = pd.read_csv(file_path)\n",
    "\n",
    "df_iris.head(10)"
   ]
  },
  {
   "cell_type": "code",
   "execution_count": 8,
   "metadata": {},
   "outputs": [
    {
     "name": "stdout",
     "output_type": "stream",
     "text": [
      "[[-0.90068117  1.03205722 -1.3412724  -1.31297673]\n",
      " [-1.14301691 -0.1249576  -1.3412724  -1.31297673]\n",
      " [-1.38535265  0.33784833 -1.39813811 -1.31297673]\n",
      " [-1.50652052  0.10644536 -1.2844067  -1.31297673]\n",
      " [-1.02184904  1.26346019 -1.3412724  -1.31297673]]\n"
     ]
    }
   ],
   "source": [
    "iris_scaled = StandardScaler().fit_transform(df_iris)\n",
    "print(iris_scaled[0:5])"
   ]
  },
  {
   "cell_type": "code",
   "execution_count": 9,
   "metadata": {},
   "outputs": [],
   "source": [
    "# Initialize PCA model\n",
    "pca = PCA(n_components=2)"
   ]
  },
  {
   "cell_type": "code",
   "execution_count": 10,
   "metadata": {},
   "outputs": [],
   "source": [
    "# Get two principal components for the iris data.\n",
    "iris_pca = pca.fit_transform(iris_scaled)"
   ]
  },
  {
   "cell_type": "code",
   "execution_count": 12,
   "metadata": {},
   "outputs": [
    {
     "data": {
      "text/html": [
       "<div>\n",
       "<style scoped>\n",
       "    .dataframe tbody tr th:only-of-type {\n",
       "        vertical-align: middle;\n",
       "    }\n",
       "\n",
       "    .dataframe tbody tr th {\n",
       "        vertical-align: top;\n",
       "    }\n",
       "\n",
       "    .dataframe thead th {\n",
       "        text-align: right;\n",
       "    }\n",
       "</style>\n",
       "<table border=\"1\" class=\"dataframe\">\n",
       "  <thead>\n",
       "    <tr style=\"text-align: right;\">\n",
       "      <th></th>\n",
       "      <th>principal component 1</th>\n",
       "      <th>principal component 2</th>\n",
       "    </tr>\n",
       "  </thead>\n",
       "  <tbody>\n",
       "    <tr>\n",
       "      <th>0</th>\n",
       "      <td>-2.264542</td>\n",
       "      <td>0.505704</td>\n",
       "    </tr>\n",
       "    <tr>\n",
       "      <th>1</th>\n",
       "      <td>-2.086426</td>\n",
       "      <td>-0.655405</td>\n",
       "    </tr>\n",
       "    <tr>\n",
       "      <th>2</th>\n",
       "      <td>-2.367950</td>\n",
       "      <td>-0.318477</td>\n",
       "    </tr>\n",
       "    <tr>\n",
       "      <th>3</th>\n",
       "      <td>-2.304197</td>\n",
       "      <td>-0.575368</td>\n",
       "    </tr>\n",
       "    <tr>\n",
       "      <th>4</th>\n",
       "      <td>-2.388777</td>\n",
       "      <td>0.674767</td>\n",
       "    </tr>\n",
       "  </tbody>\n",
       "</table>\n",
       "</div>"
      ],
      "text/plain": [
       "   principal component 1  principal component 2\n",
       "0              -2.264542               0.505704\n",
       "1              -2.086426              -0.655405\n",
       "2              -2.367950              -0.318477\n",
       "3              -2.304197              -0.575368\n",
       "4              -2.388777               0.674767"
      ]
     },
     "execution_count": 12,
     "metadata": {},
     "output_type": "execute_result"
    }
   ],
   "source": [
    "#PCA to Data Frame\n",
    "df_iris_pca = pd.DataFrame(\n",
    "    data=iris_pca, columns=[\"principal component 1\" , \"principal component 2\"])\n",
    "df_iris_pca.head()"
   ]
  },
  {
   "cell_type": "code",
   "execution_count": 13,
   "metadata": {},
   "outputs": [
    {
     "data": {
      "text/plain": [
       "array([0.72770452, 0.23030523])"
      ]
     },
     "execution_count": 13,
     "metadata": {},
     "output_type": "execute_result"
    }
   ],
   "source": [
    "pca.explained_variance_ratio_"
   ]
  },
  {
   "cell_type": "code",
   "execution_count": 14,
   "metadata": {},
   "outputs": [
    {
     "data": {},
     "metadata": {},
     "output_type": "display_data"
    },
    {
     "data": {
      "application/vnd.holoviews_exec.v0+json": "",
      "text/html": [
       "<div id='1001'>\n",
       "\n",
       "\n",
       "\n",
       "\n",
       "\n",
       "  <div class=\"bk-root\" id=\"58d1b941-0253-4637-bb7d-6c7c6540aae4\" data-root-id=\"1001\"></div>\n",
       "</div>\n",
       "<script type=\"application/javascript\">(function(root) {\n",
       "  function embed_document(root) {\n",
       "    var docs_json = {\"a88b6853-d75b-4307-a319-f36ef05635d3\":{\"roots\":{\"references\":[{\"attributes\":{\"margin\":[5,5,5,5],\"name\":\"HSpacer01538\",\"sizing_mode\":\"stretch_width\"},\"id\":\"1065\",\"type\":\"Spacer\"},{\"attributes\":{},\"id\":\"1023\",\"type\":\"SaveTool\"},{\"attributes\":{\"overlay\":{\"id\":\"1028\"}},\"id\":\"1026\",\"type\":\"BoxZoomTool\"},{\"attributes\":{},\"id\":\"1027\",\"type\":\"ResetTool\"},{\"attributes\":{\"data\":{\"inertia\":{\"__ndarray__\":\"azafYnL2gUA5bWBmntZoQK2mqsr9Bl1Aj+/4E2huVkDl0qR94pNQQP7j3qojokxAlBm84Hb7R0CeL3dCGh9EQMdsY3u0F0BANerHi29mPEA=\",\"dtype\":\"float64\",\"order\":\"little\",\"shape\":[10]},\"k\":[1,2,3,4,5,6,7,8,9,10]},\"selected\":{\"id\":\"1037\"},\"selection_policy\":{\"id\":\"1056\"}},\"id\":\"1036\",\"type\":\"ColumnDataSource\"},{\"attributes\":{\"ticks\":[1,2,3,4,5,6,7,8,9,10]},\"id\":\"1044\",\"type\":\"FixedTicker\"},{\"attributes\":{\"line_color\":\"#30a2da\",\"line_width\":2,\"x\":{\"field\":\"k\"},\"y\":{\"field\":\"inertia\"}},\"id\":\"1039\",\"type\":\"Line\"},{\"attributes\":{\"below\":[{\"id\":\"1015\"}],\"center\":[{\"id\":\"1018\"},{\"id\":\"1022\"}],\"left\":[{\"id\":\"1019\"}],\"margin\":[5,5,5,5],\"min_border_bottom\":10,\"min_border_left\":10,\"min_border_right\":10,\"min_border_top\":10,\"plot_height\":300,\"plot_width\":700,\"renderers\":[{\"id\":\"1042\"}],\"sizing_mode\":\"fixed\",\"title\":{\"id\":\"1007\"},\"toolbar\":{\"id\":\"1029\"},\"x_range\":{\"id\":\"1003\"},\"x_scale\":{\"id\":\"1011\"},\"y_range\":{\"id\":\"1004\"},\"y_scale\":{\"id\":\"1013\"}},\"id\":\"1006\",\"subtype\":\"Figure\",\"type\":\"Plot\"},{\"attributes\":{},\"id\":\"1045\",\"type\":\"BasicTickFormatter\"},{\"attributes\":{\"source\":{\"id\":\"1036\"}},\"id\":\"1043\",\"type\":\"CDSView\"},{\"attributes\":{\"line_alpha\":0.1,\"line_color\":\"#30a2da\",\"line_width\":2,\"x\":{\"field\":\"k\"},\"y\":{\"field\":\"inertia\"}},\"id\":\"1040\",\"type\":\"Line\"},{\"attributes\":{\"line_alpha\":0.2,\"line_color\":\"#30a2da\",\"line_width\":2,\"x\":{\"field\":\"k\"},\"y\":{\"field\":\"inertia\"}},\"id\":\"1041\",\"type\":\"Line\"},{\"attributes\":{\"end\":629.4464234300635,\"reset_end\":629.4464234300635,\"reset_start\":-26.240431703993554,\"start\":-26.240431703993554,\"tags\":[[[\"inertia\",\"inertia\",null]]]},\"id\":\"1004\",\"type\":\"Range1d\"},{\"attributes\":{\"data_source\":{\"id\":\"1036\"},\"glyph\":{\"id\":\"1039\"},\"hover_glyph\":null,\"muted_glyph\":{\"id\":\"1041\"},\"nonselection_glyph\":{\"id\":\"1040\"},\"selection_glyph\":null,\"view\":{\"id\":\"1043\"}},\"id\":\"1042\",\"type\":\"GlyphRenderer\"},{\"attributes\":{},\"id\":\"1049\",\"type\":\"BasicTickFormatter\"},{\"attributes\":{},\"id\":\"1037\",\"type\":\"Selection\"},{\"attributes\":{},\"id\":\"1056\",\"type\":\"UnionRenderers\"},{\"attributes\":{},\"id\":\"1013\",\"type\":\"LinearScale\"},{\"attributes\":{\"active_drag\":\"auto\",\"active_inspect\":\"auto\",\"active_multi\":null,\"active_scroll\":\"auto\",\"active_tap\":\"auto\",\"tools\":[{\"id\":\"1005\"},{\"id\":\"1023\"},{\"id\":\"1024\"},{\"id\":\"1025\"},{\"id\":\"1026\"},{\"id\":\"1027\"}]},\"id\":\"1029\",\"type\":\"Toolbar\"},{\"attributes\":{\"text\":\"Elbow Curve\",\"text_color\":{\"value\":\"black\"},\"text_font_size\":{\"value\":\"12pt\"}},\"id\":\"1007\",\"type\":\"Title\"},{\"attributes\":{\"bottom_units\":\"screen\",\"fill_alpha\":0.5,\"fill_color\":\"lightgrey\",\"left_units\":\"screen\",\"level\":\"overlay\",\"line_alpha\":1.0,\"line_color\":\"black\",\"line_dash\":[4,4],\"line_width\":2,\"right_units\":\"screen\",\"top_units\":\"screen\"},\"id\":\"1028\",\"type\":\"BoxAnnotation\"},{\"attributes\":{\"callback\":null,\"renderers\":[{\"id\":\"1042\"}],\"tags\":[\"hv_created\"],\"tooltips\":[[\"k\",\"@{k}\"],[\"inertia\",\"@{inertia}\"]]},\"id\":\"1005\",\"type\":\"HoverTool\"},{\"attributes\":{\"children\":[{\"id\":\"1002\"},{\"id\":\"1006\"},{\"id\":\"1065\"}],\"margin\":[0,0,0,0],\"name\":\"Row01533\",\"tags\":[\"embedded\"]},\"id\":\"1001\",\"type\":\"Row\"},{\"attributes\":{},\"id\":\"1011\",\"type\":\"LinearScale\"},{\"attributes\":{\"end\":10.0,\"reset_end\":10.0,\"reset_start\":1.0,\"start\":1.0,\"tags\":[[[\"k\",\"k\",null]]]},\"id\":\"1003\",\"type\":\"Range1d\"},{\"attributes\":{\"axis\":{\"id\":\"1015\"},\"grid_line_color\":null,\"ticker\":null},\"id\":\"1018\",\"type\":\"Grid\"},{\"attributes\":{},\"id\":\"1024\",\"type\":\"PanTool\"},{\"attributes\":{\"axis_label\":\"k\",\"bounds\":\"auto\",\"formatter\":{\"id\":\"1045\"},\"major_label_orientation\":\"horizontal\",\"ticker\":{\"id\":\"1044\"}},\"id\":\"1015\",\"type\":\"LinearAxis\"},{\"attributes\":{\"axis\":{\"id\":\"1019\"},\"dimension\":1,\"grid_line_color\":null,\"ticker\":null},\"id\":\"1022\",\"type\":\"Grid\"},{\"attributes\":{\"margin\":[5,5,5,5],\"name\":\"HSpacer01537\",\"sizing_mode\":\"stretch_width\"},\"id\":\"1002\",\"type\":\"Spacer\"},{\"attributes\":{\"axis_label\":\"inertia\",\"bounds\":\"auto\",\"formatter\":{\"id\":\"1049\"},\"major_label_orientation\":\"horizontal\",\"ticker\":{\"id\":\"1020\"}},\"id\":\"1019\",\"type\":\"LinearAxis\"},{\"attributes\":{},\"id\":\"1020\",\"type\":\"BasicTicker\"},{\"attributes\":{},\"id\":\"1025\",\"type\":\"WheelZoomTool\"}],\"root_ids\":[\"1001\"]},\"title\":\"Bokeh Application\",\"version\":\"2.2.3\"}};\n",
       "    var render_items = [{\"docid\":\"a88b6853-d75b-4307-a319-f36ef05635d3\",\"root_ids\":[\"1001\"],\"roots\":{\"1001\":\"58d1b941-0253-4637-bb7d-6c7c6540aae4\"}}];\n",
       "    root.Bokeh.embed.embed_items_notebook(docs_json, render_items);\n",
       "  }\n",
       "  if (root.Bokeh !== undefined && root.Bokeh.Panel !== undefined) {\n",
       "    embed_document(root);\n",
       "  } else {\n",
       "    var attempts = 0;\n",
       "    var timer = setInterval(function(root) {\n",
       "      if (root.Bokeh !== undefined && root.Bokeh.Panel !== undefined) {\n",
       "        clearInterval(timer);\n",
       "        embed_document(root);\n",
       "      } else if (document.readyState == \"complete\") {\n",
       "        attempts++;\n",
       "        if (attempts > 100) {\n",
       "          clearInterval(timer);\n",
       "          console.log(\"Bokeh: ERROR: Unable to run BokehJS code because BokehJS library is missing\");\n",
       "        }\n",
       "      }\n",
       "    }, 10, root)\n",
       "  }\n",
       "})(window);</script>"
      ],
      "text/plain": [
       ":Curve   [k]   (inertia)"
      ]
     },
     "execution_count": 14,
     "metadata": {
      "application/vnd.holoviews_exec.v0+json": {
       "id": "1001"
      }
     },
     "output_type": "execute_result"
    }
   ],
   "source": [
    "# Find the best value for K\n",
    "inertia = []\n",
    "k = list(range(1, 11))\n",
    "\n",
    "# Calculate the inertia for the range of K values\n",
    "for i in k:\n",
    "    km = KMeans(n_clusters=i, random_state=0)\n",
    "    km.fit(df_iris_pca)\n",
    "    inertia.append(km.inertia_)\n",
    "\n",
    "# Create the elbow curve\n",
    "elbow_data = {\"k\": k, \"inertia\": inertia}\n",
    "df_elbow = pd.DataFrame(elbow_data)\n",
    "df_elbow.hvplot.line(x=\"k\", y=\"inertia\", xticks=k, title=\"Elbow Curve\")"
   ]
  },
  {
   "cell_type": "code",
   "execution_count": 15,
   "metadata": {},
   "outputs": [
    {
     "data": {
      "text/html": [
       "<div>\n",
       "<style scoped>\n",
       "    .dataframe tbody tr th:only-of-type {\n",
       "        vertical-align: middle;\n",
       "    }\n",
       "\n",
       "    .dataframe tbody tr th {\n",
       "        vertical-align: top;\n",
       "    }\n",
       "\n",
       "    .dataframe thead th {\n",
       "        text-align: right;\n",
       "    }\n",
       "</style>\n",
       "<table border=\"1\" class=\"dataframe\">\n",
       "  <thead>\n",
       "    <tr style=\"text-align: right;\">\n",
       "      <th></th>\n",
       "      <th>principal component 1</th>\n",
       "      <th>principal component 2</th>\n",
       "      <th>class</th>\n",
       "    </tr>\n",
       "  </thead>\n",
       "  <tbody>\n",
       "    <tr>\n",
       "      <th>0</th>\n",
       "      <td>-2.264542</td>\n",
       "      <td>0.505704</td>\n",
       "      <td>1</td>\n",
       "    </tr>\n",
       "    <tr>\n",
       "      <th>1</th>\n",
       "      <td>-2.086426</td>\n",
       "      <td>-0.655405</td>\n",
       "      <td>1</td>\n",
       "    </tr>\n",
       "    <tr>\n",
       "      <th>2</th>\n",
       "      <td>-2.367950</td>\n",
       "      <td>-0.318477</td>\n",
       "      <td>1</td>\n",
       "    </tr>\n",
       "    <tr>\n",
       "      <th>3</th>\n",
       "      <td>-2.304197</td>\n",
       "      <td>-0.575368</td>\n",
       "      <td>1</td>\n",
       "    </tr>\n",
       "    <tr>\n",
       "      <th>4</th>\n",
       "      <td>-2.388777</td>\n",
       "      <td>0.674767</td>\n",
       "      <td>1</td>\n",
       "    </tr>\n",
       "  </tbody>\n",
       "</table>\n",
       "</div>"
      ],
      "text/plain": [
       "   principal component 1  principal component 2  class\n",
       "0              -2.264542               0.505704      1\n",
       "1              -2.086426              -0.655405      1\n",
       "2              -2.367950              -0.318477      1\n",
       "3              -2.304197              -0.575368      1\n",
       "4              -2.388777               0.674767      1"
      ]
     },
     "execution_count": 15,
     "metadata": {},
     "output_type": "execute_result"
    }
   ],
   "source": [
    "# Initialize the K-means model\n",
    "model = KMeans(n_clusters=3, random_state=0)\n",
    "\n",
    "# Fit the model\n",
    "model.fit(df_iris_pca)\n",
    "\n",
    "# Predict clusters\n",
    "predictions = model.predict(df_iris_pca)\n",
    "\n",
    "# Add the predicted class columns\n",
    "df_iris_pca[\"class\"] = model.labels_\n",
    "df_iris_pca.head()"
   ]
  },
  {
   "cell_type": "code",
   "execution_count": 16,
   "metadata": {},
   "outputs": [
    {
     "data": {},
     "metadata": {},
     "output_type": "display_data"
    },
    {
     "data": {
      "application/vnd.holoviews_exec.v0+json": "",
      "text/html": [
       "<div id='1102'>\n",
       "\n",
       "\n",
       "\n",
       "\n",
       "\n",
       "  <div class=\"bk-root\" id=\"09c086e2-0f9f-4ea0-a488-860f0e1a55d8\" data-root-id=\"1102\"></div>\n",
       "</div>\n",
       "<script type=\"application/javascript\">(function(root) {\n",
       "  function embed_document(root) {\n",
       "    var docs_json = {\"ef82144c-b027-4cdd-9662-b9ee46369e34\":{\"roots\":{\"references\":[{\"attributes\":{},\"id\":\"1116\",\"type\":\"LinearScale\"},{\"attributes\":{\"label\":{\"value\":\"0\"},\"renderers\":[{\"id\":\"1149\"}]},\"id\":\"1160\",\"type\":\"LegendItem\"},{\"attributes\":{\"callback\":null,\"renderers\":[{\"id\":\"1149\"},{\"id\":\"1167\"},{\"id\":\"1186\"}],\"tags\":[\"hv_created\"],\"tooltips\":[[\"class\",\"@{class}\"],[\"principal component 1\",\"@{principal_component_1}\"],[\"principal component 2\",\"@{principal_component_2}\"]]},\"id\":\"1106\",\"type\":\"HoverTool\"},{\"attributes\":{},\"id\":\"1123\",\"type\":\"BasicTicker\"},{\"attributes\":{\"fill_alpha\":{\"value\":0.2},\"fill_color\":{\"value\":\"#30a2da\"},\"line_alpha\":{\"value\":0.2},\"line_color\":{\"value\":\"#30a2da\"},\"size\":{\"units\":\"screen\",\"value\":5.477225575051661},\"x\":{\"field\":\"principal component 1\"},\"y\":{\"field\":\"principal component 2\"}},\"id\":\"1148\",\"type\":\"Scatter\"},{\"attributes\":{\"fill_color\":{\"value\":\"#e5ae38\"},\"line_color\":{\"value\":\"#e5ae38\"},\"size\":{\"units\":\"screen\",\"value\":5.477225575051661},\"x\":{\"field\":\"principal component 1\"},\"y\":{\"field\":\"principal component 2\"}},\"id\":\"1183\",\"type\":\"Scatter\"},{\"attributes\":{\"children\":[{\"id\":\"1103\"},{\"id\":\"1109\"},{\"id\":\"1309\"}],\"margin\":[0,0,0,0],\"name\":\"Row01764\",\"tags\":[\"embedded\"]},\"id\":\"1102\",\"type\":\"Row\"},{\"attributes\":{\"below\":[{\"id\":\"1118\"}],\"center\":[{\"id\":\"1121\"},{\"id\":\"1125\"}],\"left\":[{\"id\":\"1122\"}],\"margin\":[5,5,5,5],\"min_border_bottom\":10,\"min_border_left\":10,\"min_border_right\":10,\"min_border_top\":10,\"plot_height\":300,\"plot_width\":700,\"renderers\":[{\"id\":\"1149\"},{\"id\":\"1167\"},{\"id\":\"1186\"}],\"right\":[{\"id\":\"1159\"}],\"sizing_mode\":\"fixed\",\"title\":{\"id\":\"1110\"},\"toolbar\":{\"id\":\"1132\"},\"x_range\":{\"id\":\"1104\"},\"x_scale\":{\"id\":\"1114\"},\"y_range\":{\"id\":\"1105\"},\"y_scale\":{\"id\":\"1116\"}},\"id\":\"1109\",\"subtype\":\"Figure\",\"type\":\"Plot\"},{\"attributes\":{\"fill_alpha\":{\"value\":0.2},\"fill_color\":{\"value\":\"#fc4f30\"},\"line_alpha\":{\"value\":0.2},\"line_color\":{\"value\":\"#fc4f30\"},\"size\":{\"units\":\"screen\",\"value\":5.477225575051661},\"x\":{\"field\":\"principal component 1\"},\"y\":{\"field\":\"principal component 2\"}},\"id\":\"1166\",\"type\":\"Scatter\"},{\"attributes\":{\"text\":\"\",\"text_color\":{\"value\":\"black\"},\"text_font_size\":{\"value\":\"12pt\"}},\"id\":\"1110\",\"type\":\"Title\"},{\"attributes\":{\"data\":{\"class\":{\"__ndarray__\":\"AQAAAAEAAAABAAAAAQAAAAEAAAABAAAAAQAAAAEAAAABAAAAAQAAAAEAAAABAAAAAQAAAAEAAAABAAAAAQAAAAEAAAABAAAAAQAAAAEAAAABAAAAAQAAAAEAAAABAAAAAQAAAAEAAAABAAAAAQAAAAEAAAABAAAAAQAAAAEAAAABAAAAAQAAAAEAAAABAAAAAQAAAAEAAAABAAAAAQAAAAEAAAABAAAAAQAAAAEAAAABAAAAAQAAAAEAAAABAAAAAQAAAAEAAAA=\",\"dtype\":\"int32\",\"order\":\"little\",\"shape\":[50]},\"principal component 1\":{\"__ndarray__\":\"RxG/DcgdAsChflXa/7AAwDEtSgGQ8QLArnjV6/5uAsCAOOBfNxwDwLMJAJp1kADA7lhZG9GQA8C6vPx66N4BwLvvZ05UvALA5dUzb2iCAcDHACQK0k4BwICPWzp4ngLAbUHW4evKAcB0YBiPIx4FwONkYiHQiQHA7sLFMQADAsDEicmkO58BwNXnRqd8hQHAFLKL2CBO/r9xMd43N7gCwDsu6+IFov6/K3pNIB2jAcAlHszufzEGwHWyHOBnIP2/dG9EsmPTAcBrStBn+E//v+oJWiugagDA0hcE6nVYAcD16Z27WB8BwCYNM3l7JgLA4OURJwwoAcCzCNRTnk/9v3mUD3eZ3QTAyIxIYeyAA8Dl1TNvaIIBwAjB4qBfsAHAqgtPDPdaAMDl1TNvaIIBwKHdMoLUfAPAViP02UddAcA+4QHLzkoCwGRzDEaD8v2/Yvlj5HF2BMD9iQQfsG3/v/qHnMYlEQHAoe7lFFWaAMDT+qMb0QwDwJNmoB9/LwPALZosq3LQAcDfjpZMy6UBwA==\",\"dtype\":\"float64\",\"order\":\"little\",\"shape\":[50]},\"principal component 2\":{\"__ndarray__\":\"aO9787ku4D/2F8lWE/nkv2vYpqjuYdS/DySQjGlp4r/X0afLsZflP72+IZP5S/g/SSSoGooWsz98eXQ10LHPP9AIOjG4hfG/iE6pnFa23L9qMKXTKCHxPzS/qP2XTMQ/pqo3kBix5r+IiXLvZwbuv96ryBtaPf4/lbWrfGrHBUBkjF03Ujj4Pzj+/04udeA/9Uk0V9Tl9j8ppZIPTofyP3DAlsG9jNs/3/KSxId67j9Eu+o4P1TfPyrWDBwFVLs/Uu1BJITCxD+3YRod23Pjv2+qjuRgBtE/cYxIfx6q4T/hGaA2hIvVP15BWpX4JtS/RgayRej43r8Tlx54QH/cP7pxJTRvQf0/xrJwma57AUCITqmcVrbcvxjn16FhmMe/tOVDvSnr5T+ITqmcVrbcv3rEP1q7Ouy/e0SP1gm80j9ZwmaGk/PdP4B/28YcnwLApu8l3FML3b9qssu+Q9XfP+7eGJkvvvI/+4wv2S8k5r9VqsG4/WjyP9SttwhpMde/ee6vZGBo8D/r7UmWeoGgPw==\",\"dtype\":\"float64\",\"order\":\"little\",\"shape\":[50]},\"principal_component_1\":{\"__ndarray__\":\"RxG/DcgdAsChflXa/7AAwDEtSgGQ8QLArnjV6/5uAsCAOOBfNxwDwLMJAJp1kADA7lhZG9GQA8C6vPx66N4BwLvvZ05UvALA5dUzb2iCAcDHACQK0k4BwICPWzp4ngLAbUHW4evKAcB0YBiPIx4FwONkYiHQiQHA7sLFMQADAsDEicmkO58BwNXnRqd8hQHAFLKL2CBO/r9xMd43N7gCwDsu6+IFov6/K3pNIB2jAcAlHszufzEGwHWyHOBnIP2/dG9EsmPTAcBrStBn+E//v+oJWiugagDA0hcE6nVYAcD16Z27WB8BwCYNM3l7JgLA4OURJwwoAcCzCNRTnk/9v3mUD3eZ3QTAyIxIYeyAA8Dl1TNvaIIBwAjB4qBfsAHAqgtPDPdaAMDl1TNvaIIBwKHdMoLUfAPAViP02UddAcA+4QHLzkoCwGRzDEaD8v2/Yvlj5HF2BMD9iQQfsG3/v/qHnMYlEQHAoe7lFFWaAMDT+qMb0QwDwJNmoB9/LwPALZosq3LQAcDfjpZMy6UBwA==\",\"dtype\":\"float64\",\"order\":\"little\",\"shape\":[50]},\"principal_component_2\":{\"__ndarray__\":\"aO9787ku4D/2F8lWE/nkv2vYpqjuYdS/DySQjGlp4r/X0afLsZflP72+IZP5S/g/SSSoGooWsz98eXQ10LHPP9AIOjG4hfG/iE6pnFa23L9qMKXTKCHxPzS/qP2XTMQ/pqo3kBix5r+IiXLvZwbuv96ryBtaPf4/lbWrfGrHBUBkjF03Ujj4Pzj+/04udeA/9Uk0V9Tl9j8ppZIPTofyP3DAlsG9jNs/3/KSxId67j9Eu+o4P1TfPyrWDBwFVLs/Uu1BJITCxD+3YRod23Pjv2+qjuRgBtE/cYxIfx6q4T/hGaA2hIvVP15BWpX4JtS/RgayRej43r8Tlx54QH/cP7pxJTRvQf0/xrJwma57AUCITqmcVrbcvxjn16FhmMe/tOVDvSnr5T+ITqmcVrbcv3rEP1q7Ouy/e0SP1gm80j9ZwmaGk/PdP4B/28YcnwLApu8l3FML3b9qssu+Q9XfP+7eGJkvvvI/+4wv2S8k5r9VqsG4/WjyP9SttwhpMde/ee6vZGBo8D/r7UmWeoGgPw==\",\"dtype\":\"float64\",\"order\":\"little\",\"shape\":[50]}},\"selected\":{\"id\":\"1162\"},\"selection_policy\":{\"id\":\"1177\"}},\"id\":\"1161\",\"type\":\"ColumnDataSource\"},{\"attributes\":{\"margin\":[5,5,5,5],\"name\":\"HSpacer01768\",\"sizing_mode\":\"stretch_width\"},\"id\":\"1103\",\"type\":\"Spacer\"},{\"attributes\":{\"fill_color\":{\"value\":\"#30a2da\"},\"line_color\":{\"value\":\"#30a2da\"},\"size\":{\"units\":\"screen\",\"value\":5.477225575051661},\"x\":{\"field\":\"principal component 1\"},\"y\":{\"field\":\"principal component 2\"}},\"id\":\"1146\",\"type\":\"Scatter\"},{\"attributes\":{},\"id\":\"1181\",\"type\":\"Selection\"},{\"attributes\":{},\"id\":\"1127\",\"type\":\"PanTool\"},{\"attributes\":{},\"id\":\"1162\",\"type\":\"Selection\"},{\"attributes\":{\"fill_alpha\":{\"value\":0.1},\"fill_color\":{\"value\":\"#30a2da\"},\"line_alpha\":{\"value\":0.1},\"line_color\":{\"value\":\"#30a2da\"},\"size\":{\"units\":\"screen\",\"value\":5.477225575051661},\"x\":{\"field\":\"principal component 1\"},\"y\":{\"field\":\"principal component 2\"}},\"id\":\"1147\",\"type\":\"Scatter\"},{\"attributes\":{\"fill_alpha\":{\"value\":0.2},\"fill_color\":{\"value\":\"#e5ae38\"},\"line_alpha\":{\"value\":0.2},\"line_color\":{\"value\":\"#e5ae38\"},\"size\":{\"units\":\"screen\",\"value\":5.477225575051661},\"x\":{\"field\":\"principal component 1\"},\"y\":{\"field\":\"principal component 2\"}},\"id\":\"1185\",\"type\":\"Scatter\"},{\"attributes\":{\"fill_alpha\":{\"value\":0.1},\"fill_color\":{\"value\":\"#e5ae38\"},\"line_alpha\":{\"value\":0.1},\"line_color\":{\"value\":\"#e5ae38\"},\"size\":{\"units\":\"screen\",\"value\":5.477225575051661},\"x\":{\"field\":\"principal component 1\"},\"y\":{\"field\":\"principal component 2\"}},\"id\":\"1184\",\"type\":\"Scatter\"},{\"attributes\":{\"axis_label\":\"principal component 1\",\"bounds\":\"auto\",\"formatter\":{\"id\":\"1139\"},\"major_label_orientation\":\"horizontal\",\"ticker\":{\"id\":\"1119\"}},\"id\":\"1118\",\"type\":\"LinearAxis\"},{\"attributes\":{\"source\":{\"id\":\"1180\"}},\"id\":\"1187\",\"type\":\"CDSView\"},{\"attributes\":{\"axis_label\":\"principal component 2\",\"bounds\":\"auto\",\"formatter\":{\"id\":\"1141\"},\"major_label_orientation\":\"horizontal\",\"ticker\":{\"id\":\"1123\"}},\"id\":\"1122\",\"type\":\"LinearAxis\"},{\"attributes\":{\"margin\":[5,5,5,5],\"name\":\"HSpacer01769\",\"sizing_mode\":\"stretch_width\"},\"id\":\"1309\",\"type\":\"Spacer\"},{\"attributes\":{},\"id\":\"1128\",\"type\":\"WheelZoomTool\"},{\"attributes\":{\"data\":{\"class\":{\"__ndarray__\":\"AgAAAAIAAAACAAAAAgAAAAIAAAACAAAAAgAAAAIAAAACAAAAAgAAAAIAAAACAAAAAgAAAAIAAAACAAAAAgAAAAIAAAACAAAAAgAAAAIAAAACAAAAAgAAAAIAAAACAAAAAgAAAAIAAAACAAAAAgAAAAIAAAACAAAAAgAAAAIAAAACAAAAAgAAAAIAAAACAAAAAgAAAAIAAAACAAAAAgAAAAIAAAACAAAAAgAAAAIAAAACAAAAAgAAAAIAAAACAAAAAgAAAAIAAAACAAAAAgAAAAIAAAA=\",\"dtype\":\"int32\",\"order\":\"little\",\"shape\":[53]},\"principal component 1\":{\"__ndarray__\":\"fhWMhntt2T9KnJZFWCnxP2eBHlf2mtg/9P4dZv7c3790GywXnaPtPy+/kDZaWXQ/Ht6FPizsv7+xz+h8JxTcP1pNsk78puE/PEUqJwTz5j/Sz63ghxOjv5Vu06S8RdY/4rIv7V2iwz9o6iTH4XHzPyrYZACmFsQ/XK1SDE473j8SyjX41qXzP4wxy7fjI+Q/HtCK7kVq5j8fhVUnIzDlP9Ab1FJINai/Sj98rN0cvz8lkFg5BOqMPyDf6GWaNc4/D81ZRTXo8D+dsJMoZVfMP9Kbvwf1kvA/ql4TnFcrsT9zNwN1kKDRP8Z9yQ7wbdE/po3+VwPx4z+23kvRzh7VP9HEFNWD6de/1iTllsIb0j8uX21EL8y2PwQkQhu5t8w/9gRG5kBd4j/jjFDrsj/dv96A0gDGJNA/318IKHdz8j/yoUp+m+/WP1v35HGkDPQ/HOKIxsts9z/+RPpdThD0P4titwdQKu8/9YqkmmBE9T9jfP3wHsDyP+D2a9zEx/E/KjazatUo8z+ZvvFQw4ztP99fCCh3c/I/StVbMZXv+D852SvtkrLuPw==\",\"dtype\":\"float64\",\"order\":\"little\",\"shape\":[53]},\"principal component 2\":{\"__ndarray__\":\"ls0hw3Uh/L+OAFcJ4hrLv/QVlNb76eK/aZSza/eU/b9QjGFUCw+fP+rLA01tePC/94KEXbZDBcDC9gYTsCWuv03NqHx+XPy/3Hstxk+8x78zLLY26rLbvxW+JkVKZsi/mYnUeJ9N6b9m5T6HOSL6v8FAi9CC2fS/uQipiLWp2r9Kr8dW+Rvuv+vFU70Krdq/CjfCViNBsL9oGdg+X7fMv2oFEZBX6vC/cMJ8cXkE+b9x1i92nSz5v0eekB1e1Oi/ES0SzX5h5L+Cbj2aaPnRv76Ls++KR/a/lsdo/yc3y79CZwsN7Ub1vyoJ/oM76fG/zsUd1SI0nD9u68QlE6Xvv9HC5Ku5JADAqks7dJBT67+xjkY+Z2PGv1L2R1TcWdi/gTq1mhitw7+5+86JpaH4v6h6HI5KEeO/UghbdkNx5r9Dlg29Jfb4v5QxaImirfK/sq9g7els3L9VKnQyOXv7v0rNWXwPR+K/SGwdsBUn37/I2YlbzWjUvwGUgLFv8dK/T6/b9jwm6r81AFtSILGTP1IIW3ZDcea/xlrVOlT47L+SCiw2mtGWvw==\",\"dtype\":\"float64\",\"order\":\"little\",\"shape\":[53]},\"principal_component_1\":{\"__ndarray__\":\"fhWMhntt2T9KnJZFWCnxP2eBHlf2mtg/9P4dZv7c3790GywXnaPtPy+/kDZaWXQ/Ht6FPizsv7+xz+h8JxTcP1pNsk78puE/PEUqJwTz5j/Sz63ghxOjv5Vu06S8RdY/4rIv7V2iwz9o6iTH4XHzPyrYZACmFsQ/XK1SDE473j8SyjX41qXzP4wxy7fjI+Q/HtCK7kVq5j8fhVUnIzDlP9Ab1FJINai/Sj98rN0cvz8lkFg5BOqMPyDf6GWaNc4/D81ZRTXo8D+dsJMoZVfMP9Kbvwf1kvA/ql4TnFcrsT9zNwN1kKDRP8Z9yQ7wbdE/po3+VwPx4z+23kvRzh7VP9HEFNWD6de/1iTllsIb0j8uX21EL8y2PwQkQhu5t8w/9gRG5kBd4j/jjFDrsj/dv96A0gDGJNA/318IKHdz8j/yoUp+m+/WP1v35HGkDPQ/HOKIxsts9z/+RPpdThD0P4titwdQKu8/9YqkmmBE9T9jfP3wHsDyP+D2a9zEx/E/KjazatUo8z+ZvvFQw4ztP99fCCh3c/I/StVbMZXv+D852SvtkrLuPw==\",\"dtype\":\"float64\",\"order\":\"little\",\"shape\":[53]},\"principal_component_2\":{\"__ndarray__\":\"ls0hw3Uh/L+OAFcJ4hrLv/QVlNb76eK/aZSza/eU/b9QjGFUCw+fP+rLA01tePC/94KEXbZDBcDC9gYTsCWuv03NqHx+XPy/3Hstxk+8x78zLLY26rLbvxW+JkVKZsi/mYnUeJ9N6b9m5T6HOSL6v8FAi9CC2fS/uQipiLWp2r9Kr8dW+Rvuv+vFU70Krdq/CjfCViNBsL9oGdg+X7fMv2oFEZBX6vC/cMJ8cXkE+b9x1i92nSz5v0eekB1e1Oi/ES0SzX5h5L+Cbj2aaPnRv76Ls++KR/a/lsdo/yc3y79CZwsN7Ub1vyoJ/oM76fG/zsUd1SI0nD9u68QlE6Xvv9HC5Ku5JADAqks7dJBT67+xjkY+Z2PGv1L2R1TcWdi/gTq1mhitw7+5+86JpaH4v6h6HI5KEeO/UghbdkNx5r9Dlg29Jfb4v5QxaImirfK/sq9g7els3L9VKnQyOXv7v0rNWXwPR+K/SGwdsBUn37/I2YlbzWjUvwGUgLFv8dK/T6/b9jwm6r81AFtSILGTP1IIW3ZDcea/xlrVOlT47L+SCiw2mtGWvw==\",\"dtype\":\"float64\",\"order\":\"little\",\"shape\":[53]}},\"selected\":{\"id\":\"1181\"},\"selection_policy\":{\"id\":\"1198\"}},\"id\":\"1180\",\"type\":\"ColumnDataSource\"},{\"attributes\":{\"end\":3.260414452028094,\"reset_end\":3.260414452028094,\"reset_start\":-3.1961060534153853,\"start\":-3.1961060534153853,\"tags\":[[[\"principal component 2\",\"principal component 2\",null]]]},\"id\":\"1105\",\"type\":\"Range1d\"},{\"attributes\":{\"axis\":{\"id\":\"1122\"},\"dimension\":1,\"grid_line_color\":null,\"ticker\":null},\"id\":\"1125\",\"type\":\"Grid\"},{\"attributes\":{\"end\":3.5698545102352774,\"reset_end\":3.5698545102352774,\"reset_start\":-3.034883121264354,\"start\":-3.034883121264354,\"tags\":[[[\"principal component 1\",\"principal component 1\",null]]]},\"id\":\"1104\",\"type\":\"Range1d\"},{\"attributes\":{},\"id\":\"1126\",\"type\":\"SaveTool\"},{\"attributes\":{\"data_source\":{\"id\":\"1161\"},\"glyph\":{\"id\":\"1164\"},\"hover_glyph\":null,\"muted_glyph\":{\"id\":\"1166\"},\"nonselection_glyph\":{\"id\":\"1165\"},\"selection_glyph\":null,\"view\":{\"id\":\"1168\"}},\"id\":\"1167\",\"type\":\"GlyphRenderer\"},{\"attributes\":{\"label\":{\"value\":\"1\"},\"renderers\":[{\"id\":\"1167\"}]},\"id\":\"1179\",\"type\":\"LegendItem\"},{\"attributes\":{\"overlay\":{\"id\":\"1131\"}},\"id\":\"1129\",\"type\":\"BoxZoomTool\"},{\"attributes\":{\"data_source\":{\"id\":\"1180\"},\"glyph\":{\"id\":\"1183\"},\"hover_glyph\":null,\"muted_glyph\":{\"id\":\"1185\"},\"nonselection_glyph\":{\"id\":\"1184\"},\"selection_glyph\":null,\"view\":{\"id\":\"1187\"}},\"id\":\"1186\",\"type\":\"GlyphRenderer\"},{\"attributes\":{},\"id\":\"1130\",\"type\":\"ResetTool\"},{\"attributes\":{\"fill_color\":{\"value\":\"#fc4f30\"},\"line_color\":{\"value\":\"#fc4f30\"},\"size\":{\"units\":\"screen\",\"value\":5.477225575051661},\"x\":{\"field\":\"principal component 1\"},\"y\":{\"field\":\"principal component 2\"}},\"id\":\"1164\",\"type\":\"Scatter\"},{\"attributes\":{\"active_drag\":\"auto\",\"active_inspect\":\"auto\",\"active_multi\":null,\"active_scroll\":\"auto\",\"active_tap\":\"auto\",\"tools\":[{\"id\":\"1106\"},{\"id\":\"1126\"},{\"id\":\"1127\"},{\"id\":\"1128\"},{\"id\":\"1129\"},{\"id\":\"1130\"}]},\"id\":\"1132\",\"type\":\"Toolbar\"},{\"attributes\":{\"label\":{\"value\":\"2\"},\"renderers\":[{\"id\":\"1186\"}]},\"id\":\"1200\",\"type\":\"LegendItem\"},{\"attributes\":{\"source\":{\"id\":\"1161\"}},\"id\":\"1168\",\"type\":\"CDSView\"},{\"attributes\":{},\"id\":\"1198\",\"type\":\"UnionRenderers\"},{\"attributes\":{\"click_policy\":\"mute\",\"items\":[{\"id\":\"1160\"},{\"id\":\"1179\"},{\"id\":\"1200\"}],\"location\":[0,0],\"title\":\"class\"},\"id\":\"1159\",\"type\":\"Legend\"},{\"attributes\":{\"data\":{\"class\":{\"__ndarray__\":\"AAAAAAAAAAAAAAAAAAAAAAAAAAAAAAAAAAAAAAAAAAAAAAAAAAAAAAAAAAAAAAAAAAAAAAAAAAAAAAAAAAAAAAAAAAAAAAAAAAAAAAAAAAAAAAAAAAAAAAAAAAAAAAAAAAAAAAAAAAAAAAAAAAAAAAAAAAAAAAAAAAAAAAAAAAAAAAAAAAAAAAAAAAAAAAAAAAAAAAAAAAAAAAAAAAAAAAAAAAAAAAAAAAAAAAAAAAAAAAAAAAAAAAAAAAA=\",\"dtype\":\"int32\",\"order\":\"little\",\"shape\":[47]},\"principal component 1\":{\"__ndarray__\":\"dpicP/Wp8T/qdLjqfHDnP0tUdjeu3/M/kX2nUXn15z+Bt9eWSwfsPwTqCkTLn+c/aokX1wP06z/sYaNJSxH0PxhwyrRZu/U/YSqW1lWi2z+mboqoZcrwP2RoZCMRkP0/X6OtkJqmAUCvkwP82gT3P8Sof1zh4v0/dUK5SJgIBkDnZzhbjmwCQPYm68uNAwBAI09oqvMjAkBui3vYw9r1P64QOb/Elfk/O66UReUl/j8a0QQIDXj5P3odkBhdivc/Q/YnSsB/A0A1hisDH3kKQJjn9rPvUgBAOi4taDwvB0BDqLnnkUT7P6wJnj3aUv8/H9Lu7wVR8D+f2hYHfpP8P4MbVl0h1v0/i/hsDuZ7A0A1tjE3VocCQGstB9QUxP0/j042KVhoBkCy+a/eUEj5P/DOTXR+jfU/PwUQICao/T8PDMQGFyEAQLtqwqkqc/4/Og5TGLJYAEC6eb2NdgMAQPHgNY2o7f0/+YJComFV+D8O9OTEsgX2Pw==\",\"dtype\":\"float64\",\"order\":\"little\",\"shape\":[47]},\"principal component 2\":{\"__ndarray__\":\"3Xb2/Z2e6z8dPDfKBSjjP9zNPSGgrOM/tV+rWRnr6D9lOXqk51HgP5JBqiETwtk/YZ7yIJwL0D8IiLBClya1v0QteShkC9U/Egg+Gkhd6z/Bk6QJ17XgP4Msy2Xw5Os/CsTpFji+4T+olDOr+pqpv+9EGSLnotI/ogetLdY66T9SO0mDhTXaP7SQnq/nKee/wo2XATu+/j82oQKF0jTmP3B9L85taNu/cKdDi22E2j8zfGgVRqrlPzM3rDJONNA/gzlsMT10BECdjKQTDFhjv0R0hSJpCe0/a5KR42l12T+SWt+y8znwP5+AK36oDfA/Zaj7cmzHsD/vvEvBKb3Iv5HkXX2vxeE/0F7ipF+Szz8m4TWwbAIFQJmBO1NYo8e/TCs1XS0I6z+mj2oE2yjxPx38A+M9Bts/v6TAq3yE5T/b+zteX4jjP+N2Ilnq8+U/uyJfoH+r6z8+eOdp3MbwP/xDMiongNg/e9tvjSkT0T8gLdG5BEPwPw==\",\"dtype\":\"float64\",\"order\":\"little\",\"shape\":[47]},\"principal_component_1\":{\"__ndarray__\":\"dpicP/Wp8T/qdLjqfHDnP0tUdjeu3/M/kX2nUXn15z+Bt9eWSwfsPwTqCkTLn+c/aokX1wP06z/sYaNJSxH0PxhwyrRZu/U/YSqW1lWi2z+mboqoZcrwP2RoZCMRkP0/X6OtkJqmAUCvkwP82gT3P8Sof1zh4v0/dUK5SJgIBkDnZzhbjmwCQPYm68uNAwBAI09oqvMjAkBui3vYw9r1P64QOb/Elfk/O66UReUl/j8a0QQIDXj5P3odkBhdivc/Q/YnSsB/A0A1hisDH3kKQJjn9rPvUgBAOi4taDwvB0BDqLnnkUT7P6wJnj3aUv8/H9Lu7wVR8D+f2hYHfpP8P4MbVl0h1v0/i/hsDuZ7A0A1tjE3VocCQGstB9QUxP0/j042KVhoBkCy+a/eUEj5P/DOTXR+jfU/PwUQICao/T8PDMQGFyEAQLtqwqkqc/4/Og5TGLJYAEC6eb2NdgMAQPHgNY2o7f0/+YJComFV+D8O9OTEsgX2Pw==\",\"dtype\":\"float64\",\"order\":\"little\",\"shape\":[47]},\"principal_component_2\":{\"__ndarray__\":\"3Xb2/Z2e6z8dPDfKBSjjP9zNPSGgrOM/tV+rWRnr6D9lOXqk51HgP5JBqiETwtk/YZ7yIJwL0D8IiLBClya1v0QteShkC9U/Egg+Gkhd6z/Bk6QJ17XgP4Msy2Xw5Os/CsTpFji+4T+olDOr+pqpv+9EGSLnotI/ogetLdY66T9SO0mDhTXaP7SQnq/nKee/wo2XATu+/j82oQKF0jTmP3B9L85taNu/cKdDi22E2j8zfGgVRqrlPzM3rDJONNA/gzlsMT10BECdjKQTDFhjv0R0hSJpCe0/a5KR42l12T+SWt+y8znwP5+AK36oDfA/Zaj7cmzHsD/vvEvBKb3Iv5HkXX2vxeE/0F7ipF+Szz8m4TWwbAIFQJmBO1NYo8e/TCs1XS0I6z+mj2oE2yjxPx38A+M9Bts/v6TAq3yE5T/b+zteX4jjP+N2Ilnq8+U/uyJfoH+r6z8+eOdp3MbwP/xDMiongNg/e9tvjSkT0T8gLdG5BEPwPw==\",\"dtype\":\"float64\",\"order\":\"little\",\"shape\":[47]}},\"selected\":{\"id\":\"1144\"},\"selection_policy\":{\"id\":\"1157\"}},\"id\":\"1143\",\"type\":\"ColumnDataSource\"},{\"attributes\":{\"source\":{\"id\":\"1143\"}},\"id\":\"1150\",\"type\":\"CDSView\"},{\"attributes\":{\"data_source\":{\"id\":\"1143\"},\"glyph\":{\"id\":\"1146\"},\"hover_glyph\":null,\"muted_glyph\":{\"id\":\"1148\"},\"nonselection_glyph\":{\"id\":\"1147\"},\"selection_glyph\":null,\"view\":{\"id\":\"1150\"}},\"id\":\"1149\",\"type\":\"GlyphRenderer\"},{\"attributes\":{},\"id\":\"1177\",\"type\":\"UnionRenderers\"},{\"attributes\":{},\"id\":\"1139\",\"type\":\"BasicTickFormatter\"},{\"attributes\":{},\"id\":\"1141\",\"type\":\"BasicTickFormatter\"},{\"attributes\":{},\"id\":\"1144\",\"type\":\"Selection\"},{\"attributes\":{\"axis\":{\"id\":\"1118\"},\"grid_line_color\":null,\"ticker\":null},\"id\":\"1121\",\"type\":\"Grid\"},{\"attributes\":{\"fill_alpha\":{\"value\":0.1},\"fill_color\":{\"value\":\"#fc4f30\"},\"line_alpha\":{\"value\":0.1},\"line_color\":{\"value\":\"#fc4f30\"},\"size\":{\"units\":\"screen\",\"value\":5.477225575051661},\"x\":{\"field\":\"principal component 1\"},\"y\":{\"field\":\"principal component 2\"}},\"id\":\"1165\",\"type\":\"Scatter\"},{\"attributes\":{\"bottom_units\":\"screen\",\"fill_alpha\":0.5,\"fill_color\":\"lightgrey\",\"left_units\":\"screen\",\"level\":\"overlay\",\"line_alpha\":1.0,\"line_color\":\"black\",\"line_dash\":[4,4],\"line_width\":2,\"right_units\":\"screen\",\"top_units\":\"screen\"},\"id\":\"1131\",\"type\":\"BoxAnnotation\"},{\"attributes\":{},\"id\":\"1157\",\"type\":\"UnionRenderers\"},{\"attributes\":{},\"id\":\"1114\",\"type\":\"LinearScale\"},{\"attributes\":{},\"id\":\"1119\",\"type\":\"BasicTicker\"}],\"root_ids\":[\"1102\"]},\"title\":\"Bokeh Application\",\"version\":\"2.2.3\"}};\n",
       "    var render_items = [{\"docid\":\"ef82144c-b027-4cdd-9662-b9ee46369e34\",\"root_ids\":[\"1102\"],\"roots\":{\"1102\":\"09c086e2-0f9f-4ea0-a488-860f0e1a55d8\"}}];\n",
       "    root.Bokeh.embed.embed_items_notebook(docs_json, render_items);\n",
       "  }\n",
       "  if (root.Bokeh !== undefined && root.Bokeh.Panel !== undefined) {\n",
       "    embed_document(root);\n",
       "  } else {\n",
       "    var attempts = 0;\n",
       "    var timer = setInterval(function(root) {\n",
       "      if (root.Bokeh !== undefined && root.Bokeh.Panel !== undefined) {\n",
       "        clearInterval(timer);\n",
       "        embed_document(root);\n",
       "      } else if (document.readyState == \"complete\") {\n",
       "        attempts++;\n",
       "        if (attempts > 100) {\n",
       "          clearInterval(timer);\n",
       "          console.log(\"Bokeh: ERROR: Unable to run BokehJS code because BokehJS library is missing\");\n",
       "        }\n",
       "      }\n",
       "    }, 10, root)\n",
       "  }\n",
       "})(window);</script>"
      ],
      "text/plain": [
       ":NdOverlay   [class]\n",
       "   :Scatter   [principal component 1]   (principal component 2,class)"
      ]
     },
     "execution_count": 16,
     "metadata": {
      "application/vnd.holoviews_exec.v0+json": {
       "id": "1102"
      }
     },
     "output_type": "execute_result"
    }
   ],
   "source": [
    "df_iris_pca.hvplot.scatter(\n",
    "    x=\"principal component 1\",\n",
    "    y=\"principal component 2\",\n",
    "    hover_cols=[\"class\"],\n",
    "    by=\"class\",\n",
    ")"
   ]
  },
  {
   "cell_type": "code",
   "execution_count": null,
   "metadata": {},
   "outputs": [],
   "source": []
  }
 ],
 "metadata": {
  "kernelspec": {
   "display_name": "Python 3",
   "language": "python",
   "name": "python3"
  },
  "language_info": {
   "codemirror_mode": {
    "name": "ipython",
    "version": 3
   },
   "file_extension": ".py",
   "mimetype": "text/x-python",
   "name": "python",
   "nbconvert_exporter": "python",
   "pygments_lexer": "ipython3",
   "version": "3.8.5"
  }
 },
 "nbformat": 4,
 "nbformat_minor": 4
}
